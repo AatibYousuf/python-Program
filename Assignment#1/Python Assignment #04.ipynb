{
 "cells": [
  {
   "cell_type": "code",
   "execution_count": 8,
   "id": "4ac4eb0a",
   "metadata": {},
   "outputs": [
    {
     "name": "stdout",
     "output_type": "stream",
     "text": [
      "Enter First Number: 50\n",
      "Enter Second Number: 30\n",
      "Enter which operation would you like to perform?\n",
      "Enter any of these char for specific operation +,-,*,/,^: ^\n",
      "50 ^ 30 : 44\n"
     ]
    }
   ],
   "source": [
    "# Q1) 1. Make a calculator using Python with addition , subtraction ,multiplication ,division and power.\n",
    "# Answer\n",
    "\n",
    "num1 = int(input(\"Enter First Number: \"))\n",
    "num2 = int(input(\"Enter Second Number: \"))\n",
    "\n",
    "print(\"Enter which operation would you like to perform?\")\n",
    "opt = input(\"Enter any of these char for specific operation +,-,*,/,^: \")\n",
    "\n",
    "result = 0\n",
    "if opt == '+':\n",
    "    result = num1 + num2\n",
    "elif opt == '-':\n",
    "    result = num1 - num2\n",
    "elif opt == '*':\n",
    "    result = num1 * num2\n",
    "elif opt == '/':\n",
    "    result = num1 / num2\n",
    "elif opt == '^':\n",
    "    result = num1 ^ num2\n",
    "    \n",
    "    \n",
    "else:\n",
    "    print(\"Input character is not recognized!\")\n",
    "\n",
    "print(num1, opt , num2, \":\", result)\n"
   ]
  },
  {
   "cell_type": "code",
   "execution_count": 17,
   "id": "9a10b81a",
   "metadata": {},
   "outputs": [
    {
     "name": "stdout",
     "output_type": "stream",
     "text": [
      "6\n",
      "7\n"
     ]
    }
   ],
   "source": [
    "# Q2) Write a program to check if there is any numeric value in list using for loop.\n",
    "#Answer\n",
    "\n",
    "list = [\"abc\", \"efg\", 6 , 7 , \"break\"]\n",
    "for y in list:\n",
    "  if type(y) == int:\n",
    "    print(y)"
   ]
  },
  {
   "cell_type": "code",
   "execution_count": 24,
   "id": "00b4ea8c",
   "metadata": {},
   "outputs": [
    {
     "name": "stdout",
     "output_type": "stream",
     "text": [
      "{0: 10, 1: 20}\n",
      "after adding keys\n",
      "{0: 10, 1: 20, 2: 30, 3: 40}\n"
     ]
    }
   ],
   "source": [
    "# Q3) Write a Python script to add a key to a dictionary.\n",
    "# Answer\n",
    "\n",
    "dct = {0:10, 1:20}\n",
    "print(dct)\n",
    "dct.update({2:30, 3:40})\n",
    "print(dct)"
   ]
  },
  {
   "cell_type": "code",
   "execution_count": 33,
   "id": "624b6ccc",
   "metadata": {},
   "outputs": [
    {
     "name": "stdout",
     "output_type": "stream",
     "text": [
      "401\n"
     ]
    }
   ],
   "source": [
    "# Q4). Write a Python program to sum all the numeric items in a dictionary.\n",
    "# Answer\n",
    "\n",
    "a_dict = {'item1':100,'item2':54,'item3':247}\n",
    "print(sum(a_dict.values()))"
   ]
  },
  {
   "cell_type": "code",
   "execution_count": 36,
   "id": "3ab074cc",
   "metadata": {},
   "outputs": [
    {
     "name": "stdout",
     "output_type": "stream",
     "text": [
      "2 3 4 5 "
     ]
    }
   ],
   "source": [
    "# Q5). Write a program to identify duplicate values from list.\n",
    "# Answer\n",
    "\n",
    "lst=[1,2,3,4,5,2,3,4,7,9,5]\n",
    "lst1=[]\n",
    "for i in lst:\n",
    "    if i not in lst1:\n",
    "        lst1.append(i)\n",
    "    else:\n",
    "        print(i,end=' ')"
   ]
  },
  {
   "cell_type": "code",
   "execution_count": 46,
   "id": "ec937ce5",
   "metadata": {},
   "outputs": [
    {
     "name": "stdout",
     "output_type": "stream",
     "text": [
      "Key is present in the dictionary\n",
      "Key is not present in the dictionary\n"
     ]
    }
   ],
   "source": [
    "#Q6). Write a Python script to check if a given key already exists in a dictionary\n",
    "# Answer\n",
    "\n",
    "dct = {1: 10, 2: 20, 3: 30, 4: 40, 5: 50, 6: 60}\n",
    "def is_key_present(i):\n",
    "  if i in dct:\n",
    "      print('Key is present in the dictionary')\n",
    "  else:\n",
    "      print('Key is not present in the dictionary')\n",
    "is_key_present(5)\n",
    "is_key_present(7)\n"
   ]
  },
  {
   "cell_type": "code",
   "execution_count": null,
   "id": "ea48970e",
   "metadata": {},
   "outputs": [],
   "source": []
  }
 ],
 "metadata": {
  "kernelspec": {
   "display_name": "Python 3",
   "language": "python",
   "name": "python3"
  }
 },
 "nbformat": 4,
 "nbformat_minor": 5
}
