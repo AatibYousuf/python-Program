{
 "cells": [
  {
   "cell_type": "code",
   "execution_count": 1,
   "id": "eb49c149",
   "metadata": {},
   "outputs": [
    {
     "name": "stdout",
     "output_type": "stream",
     "text": [
      "aatib ali\n"
     ]
    }
   ],
   "source": [
    "a= \"aatib ali\"\n",
    "print(a)"
   ]
  },
  {
   "cell_type": "code",
   "execution_count": 2,
   "id": "da50fcda",
   "metadata": {},
   "outputs": [
    {
     "name": "stdout",
     "output_type": "stream",
     "text": [
      "1996\n"
     ]
    }
   ],
   "source": [
    "num = 1996\n",
    "print(num)"
   ]
  },
  {
   "cell_type": "code",
   "execution_count": 6,
   "id": "b738ecee",
   "metadata": {},
   "outputs": [
    {
     "name": "stdout",
     "output_type": "stream",
     "text": [
      "aatib ali\n"
     ]
    }
   ],
   "source": [
    "x = \"aatib\"\n",
    "y = \" ali\"\n",
    "z = x + y\n",
    "print(z)"
   ]
  },
  {
   "cell_type": "code",
   "execution_count": 7,
   "id": "e2b306ad",
   "metadata": {},
   "outputs": [
    {
     "name": "stdout",
     "output_type": "stream",
     "text": [
      "55.0\n"
     ]
    }
   ],
   "source": [
    "a = 12 - 4 / 2 + 9 * 5;\n",
    "print(a)"
   ]
  },
  {
   "cell_type": "code",
   "execution_count": 8,
   "id": "e49b6c06",
   "metadata": {},
   "outputs": [
    {
     "name": "stdout",
     "output_type": "stream",
     "text": [
      "1\n"
     ]
    }
   ],
   "source": [
    "x = 10;\n",
    "y = x%3;\n",
    "print(y);"
   ]
  },
  {
   "cell_type": "code",
   "execution_count": 9,
   "id": "f79caba7",
   "metadata": {},
   "outputs": [
    {
     "name": "stdout",
     "output_type": "stream",
     "text": [
      "6\n"
     ]
    }
   ],
   "source": [
    "a = 3;\n",
    "a+=3;\n",
    "print(a);"
   ]
  },
  {
   "cell_type": "code",
   "execution_count": 13,
   "id": "8b7cb8cc",
   "metadata": {},
   "outputs": [
    {
     "name": "stdout",
     "output_type": "stream",
     "text": [
      "Allow for Ride\n"
     ]
    }
   ],
   "source": [
    "gender = \"male\"\n",
    "if gender == \"male\":\n",
    "    print(\"Allow for Ride\");\n",
    "  "
   ]
  },
  {
   "cell_type": "code",
   "execution_count": 20,
   "id": "3abc4a67",
   "metadata": {},
   "outputs": [
    {
     "name": "stdout",
     "output_type": "stream",
     "text": [
      "Not Allow\n"
     ]
    }
   ],
   "source": [
    "gender = \"female\";\n",
    "if gender == \"male\":\n",
    "    print(\"Allow for ride\");\n",
    "else:\n",
    "    print(\"Not Allow\");"
   ]
  },
  {
   "cell_type": "code",
   "execution_count": 21,
   "id": "d01bf973",
   "metadata": {},
   "outputs": [
    {
     "name": "stdout",
     "output_type": "stream",
     "text": [
      "not Allow\n"
     ]
    }
   ],
   "source": [
    "age = 18\n",
    "gender = \"female\";\n",
    "if age > 20 or gender == \"male\":\n",
    "    print(\"Allow for ride\");\n",
    "else:\n",
    "    print(\"not Allow\")"
   ]
  },
  {
   "cell_type": "code",
   "execution_count": 29,
   "id": "42d60cf7",
   "metadata": {},
   "outputs": [
    {
     "name": "stdout",
     "output_type": "stream",
     "text": [
      "Grade B\n"
     ]
    }
   ],
   "source": [
    "percent = 70;\n",
    "if percent < 100 and percent > 80:\n",
    "    print(\"Grade A+\");\n",
    "elif percent < 80 and percent > 70:\n",
    "    print(\"Grade A\");\n",
    "elif percent <= 70 and percent > 60:\n",
    "    print(\"Grade B\")\n",
    "else:\n",
    "    print(\"fail\");"
   ]
  },
  {
   "cell_type": "code",
   "execution_count": null,
   "id": "618e44de",
   "metadata": {},
   "outputs": [],
   "source": []
  },
  {
   "cell_type": "code",
   "execution_count": null,
   "id": "e39ec205",
   "metadata": {},
   "outputs": [],
   "source": []
  }
 ],
 "metadata": {
  "kernelspec": {
   "display_name": "Python 3",
   "language": "python",
   "name": "python3"
  },
  "language_info": {
   "codemirror_mode": {
    "name": "ipython",
    "version": 3
   },
   "file_extension": ".py",
   "mimetype": "text/x-python",
   "name": "python",
   "nbconvert_exporter": "python",
   "pygments_lexer": "ipython3",
   "version": "3.8.8"
  }
 },
 "nbformat": 4,
 "nbformat_minor": 5
}
