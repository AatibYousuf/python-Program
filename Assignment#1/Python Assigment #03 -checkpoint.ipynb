{
 "cells": [
  {
   "cell_type": "code",
   "execution_count": 39,
   "id": "cad4b5af",
   "metadata": {},
   "outputs": [
    {
     "name": "stdout",
     "output_type": "stream",
     "text": [
      "Twinkle, twinkle, little star,\n",
      " \t How I wonder what you are! \n",
      " \t \t Up above the world so high, \n",
      " \t \t Like a diamond in the sky. \n",
      "Twinkle, twinkle, little star, \n",
      " \t How I wonder what you are\n"
     ]
    }
   ],
   "source": [
    "# Question No#01\n",
    "# Write a Python program to print the following string in a specific format (see theoutput)\n",
    "\n",
    "print(\"Twinkle, twinkle, little star,\\n \\t How I wonder what you are! \\n \\t \\t Up above the world so high, \\n \\t \\t Like a diamond in the sky. \\nTwinkle, twinkle, little star, \\n \\t How I wonder what you are\")"
   ]
  },
  {
   "cell_type": "code",
   "execution_count": 34,
   "id": "b84bdfc1",
   "metadata": {},
   "outputs": [
    {
     "name": "stdout",
     "output_type": "stream",
     "text": [
      "3.8.8\n"
     ]
    }
   ],
   "source": [
    "# Question No#02\n",
    "# Write a Python program to get the Python version you are using\n",
    "\n",
    "from platform import python_version\n",
    "\n",
    "print(python_version())"
   ]
  },
  {
   "cell_type": "code",
   "execution_count": 41,
   "id": "ae5da4ed",
   "metadata": {},
   "outputs": [
    {
     "name": "stdout",
     "output_type": "stream",
     "text": [
      "Today's date: 2021-10-23\n"
     ]
    }
   ],
   "source": [
    "# Question No#03\n",
    "# Write a Python program to display the current date and time.\n",
    "\n",
    "from datetime import date\n",
    "\n",
    "today = date.today()\n",
    "print(\"Today's date:\", today)"
   ]
  },
  {
   "cell_type": "code",
   "execution_count": 1,
   "id": "d4e1e46a",
   "metadata": {},
   "outputs": [
    {
     "name": "stdout",
     "output_type": "stream",
     "text": [
      "Input the radius of the circle : 3.5\n",
      "The area of the circle with radius 3.5 is: 38.48451000647496\n"
     ]
    }
   ],
   "source": [
    "# Question No#04\n",
    "# Write a Python program which accepts the radius of a circle from the user and compute the area.\n",
    "\n",
    "from math import pi\n",
    "x = float(input (\"Input the radius of the circle : \"))\n",
    "print (\"The area of the circle with radius \" + str(x) + \" is: \" + str(pi * x**2))\n"
   ]
  },
  {
   "cell_type": "code",
   "execution_count": 4,
   "id": "348cfd3b",
   "metadata": {},
   "outputs": [
    {
     "name": "stdout",
     "output_type": "stream",
     "text": [
      "Type your First Name : Aatib\n",
      "Type your Last Name : Yousuf\n",
      "Salaam  Yousuf Aatib\n"
     ]
    }
   ],
   "source": [
    "# Question No#05\n",
    "# Write a Python program which accepts the user's first and last name and print them in reverse order with a space between them.\n",
    "\n",
    "first_name = input(\"Type your First Name : \")\n",
    "last_name = input(\"Type your Last Name : \")\n",
    "print (\"Salaam  \" + last_name + \" \" + first_name)"
   ]
  },
  {
   "cell_type": "code",
   "execution_count": 7,
   "id": "0b4e0201",
   "metadata": {},
   "outputs": [
    {
     "name": "stdout",
     "output_type": "stream",
     "text": [
      "Please Enter First value. 40\n",
      "Please Enter Second value. 60\n",
      "addition is  100\n"
     ]
    }
   ],
   "source": [
    "# Question No#06\n",
    "# Write a python program which takes two inputs from user and print them addition\n",
    "\n",
    "y = int(input(\"Please Enter First value. \" ));\n",
    "z = int(input(\"Please Enter Second value. \" ));\n",
    "a = y+z;\n",
    "print(\"addition is \", a)"
   ]
  },
  {
   "cell_type": "code",
   "execution_count": 1,
   "id": "38824e34",
   "metadata": {},
   "outputs": [
    {
     "name": "stdout",
     "output_type": "stream",
     "text": [
      "Please enter your English Marks 98\n",
      "\t English 98 out of 100\n",
      "Please enter your Isl Marks 95\n",
      " \t ISL  95 out of 100\n",
      "Please enter your Math Marks 89\n",
      " \t Math  89 out of 100\n",
      "Please enter your Physics Marks 88\n",
      "\t Physics  88 out of 100\n",
      "Please enter your Science Marks 85\n",
      "\t Science  85 out of 100\n",
      "Total Marks is 500\n",
      "Total Obtain Marks is 455\n",
      "Percentage is:  91.0\n",
      "Grade A+\n"
     ]
    }
   ],
   "source": [
    "# Question No#07\n",
    "# Write a program which takes 5 inputs from user for different subject’s marks, total it and generate mark sheet using grades\n",
    "\n",
    "eng = int(input(\"Please enter your English Marks \" ));\n",
    "print(\"\\t English\", eng ,\"out of\", 100);\n",
    "isl = int(input(\"Please enter your Isl Marks \" ));\n",
    "print(\" \\t ISL \", isl ,\"out of\", 100);\n",
    "math = int(input(\"Please enter your Math Marks \" ));\n",
    "print(\" \\t Math \", math ,\"out of\", 100);\n",
    "physics =int(input(\"Please enter your Physics Marks \" ));\n",
    "print(\"\\t Physics \", physics ,\"out of\", 100);\n",
    "science =int(input(\"Please enter your Science Marks \" ));\n",
    "print(\"\\t Science \", science ,\"out of\", 100);\n",
    "totaM = 500;\n",
    "print(\"Total Marks is\",totaM)\n",
    "ObMark =eng + isl + math + physics + science;\n",
    "print(\"Total Obtain Marks is\", ObMark);\n",
    "\n",
    "percent=float(ObMark)*(100/totaM);\n",
    "print (\"Percentage is: \",percent);\n",
    "\n",
    "if percent >=90 and percent <100:\n",
    "    print(\"Grade A+\");\n",
    "elif percent >=80 and percent <90:\n",
    "    print(\"Grade A\");\n",
    "elif percent >=70 and percent <80:\n",
    "    print(\"Grade B\");\n",
    "elif percent >=60 and percent <70:\n",
    "    print(\"Grade C\")\n",
    "else:\n",
    "    print(\"Fail\")\n"
   ]
  },
  {
   "cell_type": "code",
   "execution_count": 16,
   "id": "e6325b60",
   "metadata": {},
   "outputs": [
    {
     "name": "stdout",
     "output_type": "stream",
     "text": [
      "guess a Number. 6\n",
      "this is a even number\n"
     ]
    }
   ],
   "source": [
    "# Question No#08\n",
    "# Write a program which take input from user and identify that the given number is even or odd?\n",
    "\n",
    "num = int(input(\"guess a Number. \"));\n",
    "pro = num % 2\n",
    "if pro > 0:\n",
    "    print(\"this is a odd number\")\n",
    "else:\n",
    "    print(\"this is a even number\")"
   ]
  },
  {
   "cell_type": "code",
   "execution_count": 35,
   "id": "3e6803e0",
   "metadata": {},
   "outputs": [
    {
     "name": "stdout",
     "output_type": "stream",
     "text": [
      "legnth of the list is 5\n"
     ]
    }
   ],
   "source": [
    "# Question No#09\n",
    "# Write a program which print the length of the list?\n",
    "\n",
    "lname = [\"aatib\", \"yousuf\", 335, 2900, 430];\n",
    "print(\"legnth of the list is\", len(lname));"
   ]
  },
  {
   "cell_type": "code",
   "execution_count": 38,
   "id": "a6fa91a9",
   "metadata": {},
   "outputs": [
    {
     "name": "stdout",
     "output_type": "stream",
     "text": [
      "sum of all list numbers is  232\n",
      "largest number is  89\n",
      "\n",
      "less than 5 numbers is\n",
      "\t 1\n",
      "\t 1\n",
      "\t 2\n",
      "\t 3\n"
     ]
    }
   ],
   "source": [
    "# Question No#10, 11 & 12\n",
    "\n",
    "# Write a Python program to sum all the numeric items in a list?\n",
    "a = [1, 1, 2, 3, 5, 8, 13, 21, 34, 89, 55]\n",
    "print(\"sum of all list numbers is \", sum(a))\n",
    "\n",
    "# Write a Python program to get the largest number from a numeric list.\n",
    "a.sort()\n",
    "print(\"largest number is \" , a[-1]);\n",
    "\n",
    "# Write a program that prints out all the elements of the list that are less than 5.\n",
    "print(\"\\nless than 5 numbers is\")\n",
    "for i in a:\n",
    "    if i < 5:\n",
    "        \n",
    "        print(\"\\t\",i);"
   ]
  },
  {
   "cell_type": "code",
   "execution_count": null,
   "id": "4446e589",
   "metadata": {},
   "outputs": [],
   "source": []
  }
 ],
 "metadata": {
  "kernelspec": {
   "display_name": "Python 3",
   "language": "python",
   "name": "python3"
  },
  "language_info": {
   "codemirror_mode": {
    "name": "ipython",
    "version": 3
   },
   "file_extension": ".py",
   "mimetype": "text/x-python",
   "name": "python",
   "nbconvert_exporter": "python",
   "pygments_lexer": "ipython3",
   "version": "3.8.8"
  }
 },
 "nbformat": 4,
 "nbformat_minor": 5
}
