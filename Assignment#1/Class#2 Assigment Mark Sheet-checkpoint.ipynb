{
 "cells": [
  {
   "cell_type": "code",
   "execution_count": 31,
   "id": "9fe98079",
   "metadata": {},
   "outputs": [
    {
     "name": "stdout",
     "output_type": "stream",
     "text": [
      "Total Obtain Marks is 259\n",
      "Percentage is:  86.33333333333333\n",
      "Grade A\n"
     ]
    }
   ],
   "source": [
    "eng = 94;\n",
    "isl = 86;\n",
    "math = 79;\n",
    "totaM = 300;\n",
    "ObMark =eng + isl + math;\n",
    "print(\"Total Obtain Marks is\", ObMark);\n",
    "\n",
    "percent=float(ObMark)*(100/totaM);\n",
    "print (\"Percentage is: \",percent);\n",
    "\n",
    "if percent >=90 and percent <100:\n",
    "    print(\"Grade A+\");\n",
    "elif percent >=80 and percent <90:\n",
    "    print(\"Grade A\");\n",
    "elif percent >=70 and percent <80:\n",
    "    print(\"Grade B\");\n",
    "elif percent >=60 and percent <70:\n",
    "    print(\"Grade C\")\n",
    "else:\n",
    "    print(\"Fail\")\n"
   ]
  },
  {
   "cell_type": "code",
   "execution_count": null,
   "id": "1a8982ee",
   "metadata": {},
   "outputs": [],
   "source": []
  }
 ],
 "metadata": {
  "kernelspec": {
   "display_name": "Python 3",
   "language": "python",
   "name": "python3"
  },
  "language_info": {
   "codemirror_mode": {
    "name": "ipython",
    "version": 3
   },
   "file_extension": ".py",
   "mimetype": "text/x-python",
   "name": "python",
   "nbconvert_exporter": "python",
   "pygments_lexer": "ipython3",
   "version": "3.8.8"
  }
 },
 "nbformat": 4,
 "nbformat_minor": 5
}
